{
  "cells": [
    {
      "cell_type": "code",
      "execution_count": null,
      "metadata": {
        "colab": {
          "base_uri": "https://localhost:8080/"
        },
        "id": "rAuq2aeRX0Wo",
        "outputId": "30e3b089-ff6a-4e62-dc7f-dccbef1022f4"
      },
      "outputs": [
        {
          "name": "stdout",
          "output_type": "stream",
          "text": [
            "Collecting plot_keras_history\n",
            "  Downloading plot_keras_history-1.1.38.tar.gz (11 kB)\n",
            "  Preparing metadata (setup.py) ... \u001b[?25l\u001b[?25hdone\n",
            "Requirement already satisfied: matplotlib in /usr/local/lib/python3.10/dist-packages (from plot_keras_history) (3.7.1)\n",
            "Requirement already satisfied: pandas in /usr/local/lib/python3.10/dist-packages (from plot_keras_history) (2.0.3)\n",
            "Requirement already satisfied: scipy in /usr/local/lib/python3.10/dist-packages (from plot_keras_history) (1.11.4)\n",
            "Collecting support_developer>=1.0.2 (from plot_keras_history)\n",
            "  Downloading support_developer-1.0.5.tar.gz (4.9 kB)\n",
            "  Preparing metadata (setup.py) ... \u001b[?25l\u001b[?25hdone\n",
            "Collecting sanitize_ml_labels>=1.0.48 (from plot_keras_history)\n",
            "  Downloading sanitize_ml_labels-1.0.51.tar.gz (322 kB)\n",
            "\u001b[2K     \u001b[90m━━━━━━━━━━━━━━━━━━━━━━━━━━━━━━━━━━━━━━━━\u001b[0m \u001b[32m322.5/322.5 kB\u001b[0m \u001b[31m4.6 MB/s\u001b[0m eta \u001b[36m0:00:00\u001b[0m\n",
            "\u001b[?25h  Preparing metadata (setup.py) ... \u001b[?25l\u001b[?25hdone\n",
            "Collecting compress_json (from sanitize_ml_labels>=1.0.48->plot_keras_history)\n",
            "  Downloading compress_json-1.0.10.tar.gz (6.4 kB)\n",
            "  Preparing metadata (setup.py) ... \u001b[?25l\u001b[?25hdone\n",
            "Requirement already satisfied: contourpy>=1.0.1 in /usr/local/lib/python3.10/dist-packages (from matplotlib->plot_keras_history) (1.2.0)\n",
            "Requirement already satisfied: cycler>=0.10 in /usr/local/lib/python3.10/dist-packages (from matplotlib->plot_keras_history) (0.12.1)\n",
            "Requirement already satisfied: fonttools>=4.22.0 in /usr/local/lib/python3.10/dist-packages (from matplotlib->plot_keras_history) (4.50.0)\n",
            "Requirement already satisfied: kiwisolver>=1.0.1 in /usr/local/lib/python3.10/dist-packages (from matplotlib->plot_keras_history) (1.4.5)\n",
            "Requirement already satisfied: numpy>=1.20 in /usr/local/lib/python3.10/dist-packages (from matplotlib->plot_keras_history) (1.25.2)\n",
            "Requirement already satisfied: packaging>=20.0 in /usr/local/lib/python3.10/dist-packages (from matplotlib->plot_keras_history) (24.0)\n",
            "Requirement already satisfied: pillow>=6.2.0 in /usr/local/lib/python3.10/dist-packages (from matplotlib->plot_keras_history) (9.4.0)\n",
            "Requirement already satisfied: pyparsing>=2.3.1 in /usr/local/lib/python3.10/dist-packages (from matplotlib->plot_keras_history) (3.1.2)\n",
            "Requirement already satisfied: python-dateutil>=2.7 in /usr/local/lib/python3.10/dist-packages (from matplotlib->plot_keras_history) (2.8.2)\n",
            "Requirement already satisfied: pytz>=2020.1 in /usr/local/lib/python3.10/dist-packages (from pandas->plot_keras_history) (2023.4)\n",
            "Requirement already satisfied: tzdata>=2022.1 in /usr/local/lib/python3.10/dist-packages (from pandas->plot_keras_history) (2024.1)\n",
            "Requirement already satisfied: six>=1.5 in /usr/local/lib/python3.10/dist-packages (from python-dateutil>=2.7->matplotlib->plot_keras_history) (1.16.0)\n",
            "Building wheels for collected packages: plot_keras_history, sanitize_ml_labels, support_developer, compress_json\n",
            "  Building wheel for plot_keras_history (setup.py) ... \u001b[?25l\u001b[?25hdone\n",
            "  Created wheel for plot_keras_history: filename=plot_keras_history-1.1.38-py3-none-any.whl size=9456 sha256=7f201e2608b79526df1f0e8930cb6ae7fb6c84bfbac8f74b44dabe44ec4c64e3\n",
            "  Stored in directory: /root/.cache/pip/wheels/2f/31/6c/bbc9703b7baa8bd3802a8aedd9e2f9e66941b0cf0d456ab4cc\n",
            "  Building wheel for sanitize_ml_labels (setup.py) ... \u001b[?25l\u001b[?25hdone\n",
            "  Created wheel for sanitize_ml_labels: filename=sanitize_ml_labels-1.0.51-py3-none-any.whl size=321866 sha256=b485667699c211519af5863e9c788f5ec98601609c3ba6f1c3618aa3f2d2cd07\n",
            "  Stored in directory: /root/.cache/pip/wheels/30/9f/f5/37d037c39ac8b305590d5956f7021c6ca94b63c68be24f6841\n",
            "  Building wheel for support_developer (setup.py) ... \u001b[?25l\u001b[?25hdone\n",
            "  Created wheel for support_developer: filename=support_developer-1.0.5-py3-none-any.whl size=5630 sha256=d451f45b4da75aa37f891c7c48bf9f2ad600cbae02b939f687d720a84b4136b0\n",
            "  Stored in directory: /root/.cache/pip/wheels/b6/72/c8/3054a5897ba0713dfa7a941364d68cbd42b0755c8e2ec1c18c\n",
            "  Building wheel for compress_json (setup.py) ... \u001b[?25l\u001b[?25hdone\n",
            "  Created wheel for compress_json: filename=compress_json-1.0.10-py3-none-any.whl size=5817 sha256=7ad14d430d8d49098cf4717ede0b4244933153c9c7c299bb6fc4148218c1df79\n",
            "  Stored in directory: /root/.cache/pip/wheels/7b/55/94/bc79987b855aac5990e0d015c2e604aa50bc5147673e98530c\n",
            "Successfully built plot_keras_history sanitize_ml_labels support_developer compress_json\n",
            "Installing collected packages: support_developer, compress_json, sanitize_ml_labels, plot_keras_history\n",
            "Successfully installed compress_json-1.0.10 plot_keras_history-1.1.38 sanitize_ml_labels-1.0.51 support_developer-1.0.5\n"
          ]
        }
      ],
      "source": [
        "!pip install mlflow\n",
        "!pip install plot_keras_history\n",
        "\n",
        "\n",
        "\n",
        "import mlflow\n",
        "import mlflow.keras\n",
        "from mlflow.tracking import MlflowClient\n",
        "from tensorflow import keras\n",
        "from tensorflow.keras import layers\n",
        "from tensorflow.keras import regularizers\n",
        "from tensorflow.keras.layers import Dropout\n",
        "from tensorflow.keras.models import Sequential\n",
        "from tensorflow.keras.layers import Dense\n",
        "import matplotlib.pyplot as plt\n",
        "from plot_keras_history import show_history\n",
        "import numpy as np\n",
        "from tensorflow.keras.callbacks import ModelCheckpoint\n",
        "import h5py"
      ]
    },
    {
      "cell_type": "code",
      "execution_count": null,
      "metadata": {},
      "outputs": [],
      "source": [
        "# Set up MLflow\n",
        "mlflow.set_tracking_uri(\"http://localhost:5000\")  # Replace with your MLflow tracking URI\n",
        "mlflow.set_experiment(\"MNIST Digit Classification\")  # Set the experiment name"
      ]
    },
    {
      "cell_type": "code",
      "execution_count": 2,
      "metadata": {
        "colab": {
          "base_uri": "https://localhost:8080/"
        },
        "id": "vI51xvP-X0Wp",
        "outputId": "8a5ed8ce-918f-4c41-e1f2-f31dd9c96525"
      },
      "outputs": [
        {
          "name": "stdout",
          "output_type": "stream",
          "text": [
            "Downloading data from https://storage.googleapis.com/tensorflow/tf-keras-datasets/mnist.npz\n",
            "11490434/11490434 [==============================] - 0s 0us/step\n",
            "(60000, 784) train input samples\n",
            "(10000, 784) test input samples\n"
          ]
        }
      ],
      "source": [
        "(X_train, Y_train), (X_test, Y_test) = keras.datasets.mnist.load_data()\n",
        "num_classes = 10\n",
        "x_train = X_train.reshape(60000, 784)\n",
        "x_test = X_test.reshape(10000, 784)\n",
        "x_train = x_train.astype('float32')\n",
        "x_test = x_test.astype('float32')\n",
        "x_train /= 255\n",
        "x_test /= 255\n",
        "print(x_train.shape, 'train input samples')\n",
        "print(x_test.shape, 'test input samples')"
      ]
    },
    {
      "cell_type": "code",
      "execution_count": 3,
      "metadata": {
        "colab": {
          "base_uri": "https://localhost:8080/"
        },
        "id": "b3bElstJX0Wq",
        "outputId": "cf8ab654-6ed1-4599-9586-8d08a8334b7d"
      },
      "outputs": [
        {
          "name": "stdout",
          "output_type": "stream",
          "text": [
            "(60000, 10) train output samples\n",
            "(10000, 10) test output samples\n"
          ]
        }
      ],
      "source": [
        "y_train = keras.utils.to_categorical(Y_train, num_classes)\n",
        "y_test = keras.utils.to_categorical(Y_test, num_classes)\n",
        "print(y_train.shape, 'train output samples')\n",
        "print(y_test.shape, 'test output samples')"
      ]
    },
    {
      "cell_type": "code",
      "execution_count": 4,
      "metadata": {
        "colab": {
          "base_uri": "https://localhost:8080/",
          "height": 432
        },
        "id": "7kM7diRYX0Wq",
        "outputId": "757af904-b008-468e-92bd-02cc470aeb3b"
      },
      "outputs": [
        {
          "data": {
            "image/png": "[encoded data removed]",
            "text/plain": [
              "<Figure size 640x480 with 4 Axes>"
            ]
          },
          "metadata": {},
          "output_type": "display_data"
        }
      ],
      "source": [
        "plt.subplot(221)\n",
        "plt.imshow(X_train[310], cmap=plt.get_cmap('gray'))\n",
        "plt.subplot(222)\n",
        "plt.imshow(X_train[515], cmap=plt.get_cmap('gray'))\n",
        "plt.subplot(223)\n",
        "plt.imshow(X_train[1210], cmap=plt.get_cmap('gray'))\n",
        "plt.subplot(224)\n",
        "plt.imshow(X_train[2150], cmap=plt.get_cmap('gray'))\n",
        "plt.show()"
      ]
    },
    {
      "cell_type": "code",
      "execution_count": null,
      "metadata": {},
      "outputs": [],
      "source": [
        "# In each model block, add the following lines before model training:\n",
        "mlflow.autolog()\n",
        "\n",
        "with mlflow.start_run(run_name=\"basic\") as run:\n",
        "    # let's try a basic neural network for digit classification\n",
        "    model = keras.Sequential()\n",
        "    model.add(layers.Dense(20, activation='sigmoid', input_shape=(784,)))\n",
        "    model.add(layers.Dense(20, activation='sigmoid'))\n",
        "    model.add(layers.Dense(10, activation='softmax'))\n",
        "    model.summary()\n",
        "    model.compile(loss='categorical_crossentropy', metrics=['accuracy'])\n",
        "    history = model.fit(x_train, y_train, epochs=10, validation_data=(x_test, y_test))\n",
        "    show_history(history)\n",
        "    loss, acc = model.evaluate(x_test, y_test, verbose=2)\n",
        "    print(\"Test accuracy: {:5.2f}%\".format(100*acc))\n",
        "    loss, acc = model.evaluate(x_train, y_train, verbose=2)\n",
        "    print(\"Train accuracy: {:5.2f}%\".format(100*acc))\n",
        "    # check if the prediction is working fine for a random test point\n",
        "    test_pt = 782\n",
        "    plt.imshow(X_test[test_pt], cmap=plt.get_cmap('gray'))\n",
        "    probs = model.predict(x_test[test_pt:test_pt+1], verbose=True)\n",
        "    print(\"Predicted Digit:\", np.argmax(probs))"
      ]
    },
    {
      "cell_type": "code",
      "execution_count": 27,
      "metadata": {
        "colab": {
          "base_uri": "https://localhost:8080/"
        },
        "id": "STUGA6DTX0Wr",
        "outputId": "3d4a7f32-1823-46ed-e3a1-dc27f25510ca"
      },
      "outputs": [
        {
          "name": "stdout",
          "output_type": "stream",
          "text": [
            "Model: \"sequential_1\"\n",
            "_________________________________________________________________\n",
            " Layer (type)                Output Shape              Param #   \n",
            "=================================================================\n",
            " dense_3 (Dense)             (None, 256)               200960    \n",
            "                                                                 \n",
            " dense_4 (Dense)             (None, 128)               32896     \n",
            "                                                                 \n",
            " dense_5 (Dense)             (None, 10)                1290      \n",
            "                                                                 \n",
            "=================================================================\n",
            "Total params: 235146 (918.54 KB)\n",
            "Trainable params: 235146 (918.54 KB)\n",
            "Non-trainable params: 0 (0.00 Byte)\n",
            "_________________________________________________________________\n"
          ]
        }
      ],
      "source": [
        "# In each model block, add the following lines before model training:\n",
        "mlflow.autolog()\n",
        "\n",
        "with mlflow.start_run(run_name=\"bigger\") as run:\n",
        "    # Let's try with a slightly bigger model with more parameters.\n",
        "    model2 = keras.Sequential()\n",
        "    model2.add(layers.Dense(256, activation='sigmoid', input_shape=(784,)))\n",
        "    model2.add(layers.Dense(128, activation='sigmoid'))\n",
        "    model2.add(layers.Dense(10, activation='softmax'))\n",
        "    model2.summary()\n",
        "    model2.compile(loss='categorical_crossentropy', metrics=['accuracy'])\n",
        "    history = model2.fit(x_train, y_train, epochs=10, validation_data=(x_test, y_test))\n",
        "    show_history(history)\n",
        "    loss, acc = model2.evaluate(x_test, y_test, verbose=2)\n",
        "    print(\"Test accuracy: {:5.2f}%\".format(100*acc))\n",
        "    loss, acc = model2.evaluate(x_train, y_train, verbose=2)\n",
        "    print(\"Train accuracy: {:5.2f}%\".format(100*acc))"
      ]
    },
    {
      "cell_type": "code",
      "execution_count": 39,
      "metadata": {
        "colab": {
          "base_uri": "https://localhost:8080/"
        },
        "id": "XerbxmZFX0Ws",
        "outputId": "faba5967-7f6d-48fc-ddfb-0c96161deaba"
      },
      "outputs": [
        {
          "name": "stdout",
          "output_type": "stream",
          "text": [
            "Model: \"sequential_5\"\n",
            "_________________________________________________________________\n",
            " Layer (type)                Output Shape              Param #   \n",
            "=================================================================\n",
            " dense_15 (Dense)            (None, 256)               200960    \n",
            "                                                                 \n",
            " dense_16 (Dense)            (None, 128)               32896     \n",
            "                                                                 \n",
            " dense_17 (Dense)            (None, 10)                1290      \n",
            "                                                                 \n",
            "=================================================================\n",
            "Total params: 235146 (918.54 KB)\n",
            "Trainable params: 235146 (918.54 KB)\n",
            "Non-trainable params: 0 (0.00 Byte)\n",
            "_________________________________________________________________\n"
          ]
        }
      ],
      "source": [
        "# In each model block, add the following lines before model training:\n",
        "mlflow.autolog()\n",
        "\n",
        "with mlflow.start_run(run_name=\"regularized\") as run:\n",
        "    # let's try adding kernel regularization to the mix.\n",
        "    model_r = keras.Sequential()\n",
        "    model_r.add(layers.Dense(256, activation='sigmoid', input_shape=(784,), kernel_regularizer=regularizers.L2(0.01)))\n",
        "    model_r.add(layers.Dense(128, activation='sigmoid', kernel_regularizer=regularizers.L2(0.01)))\n",
        "    model_r.add(layers.Dense(10, activation='softmax'))\n",
        "    model_r.summary()\n",
        "    model_r.compile(loss='categorical_crossentropy', metrics=['accuracy'])\n",
        "    history_r = model_r.fit(x_train, y_train, epochs=50, steps_per_epoch=50, validation_data=(x_test, y_test))\n",
        "    loss, acc = model_r.evaluate(x_test, y_test, verbose=2)\n",
        "    print(\"Test accuracy: {:5.2f}%\".format(100*acc))\n",
        "    loss, acc = model_r.evaluate(x_train, y_train, verbose=2)\n",
        "    print(\"Train accuracy: {:5.2f}%\".format(100*acc))\n",
        "    show_history(history_r)"
      ]
    },
    {
      "cell_type": "code",
      "execution_count": 45,
      "metadata": {
        "colab": {
          "base_uri": "https://localhost:8080/"
        },
        "id": "u94rHsDeX0Wt",
        "outputId": "725af822-704e-4bc1-fe7a-852725d8148a"
      },
      "outputs": [
        {
          "name": "stdout",
          "output_type": "stream",
          "text": [
            "Model: \"sequential_6\"\n",
            "_________________________________________________________________\n",
            " Layer (type)                Output Shape              Param #   \n",
            "=================================================================\n",
            " dense_18 (Dense)            (None, 256)               200960    \n",
            "                                                                 \n",
            " dropout (Dropout)           (None, 256)               0         \n",
            "                                                                 \n",
            " dense_19 (Dense)            (None, 128)               32896     \n",
            "                                                                 \n",
            " dropout_1 (Dropout)         (None, 128)               0         \n",
            "                                                                 \n",
            " dense_20 (Dense)            (None, 10)                1290      \n",
            "                                                                 \n",
            "=================================================================\n",
            "Total params: 235146 (918.54 KB)\n",
            "Trainable params: 235146 (918.54 KB)\n",
            "Non-trainable params: 0 (0.00 Byte)\n",
            "_________________________________________________________________\n"
          ]
        }
      ],
      "source": [
        "# In each model block, add the following lines before model training:\n",
        "mlflow.autolog()\n",
        "\n",
        "with mlflow.start_run(run_name=\"dropout\") as run:\n",
        "    model_rd = keras.Sequential()\n",
        "    model_rd.add(layers.Dense(256, activation='sigmoid', input_shape=(784,)))\n",
        "    model_rd.add(Dropout(0.7))\n",
        "    model_rd.add(layers.Dense(128, activation='sigmoid'))\n",
        "    model_rd.add(Dropout(0.6))\n",
        "    model_rd.add(layers.Dense(10, activation='softmax'))\n",
        "    model_rd.summary()\n",
        "    model_rd.compile(loss='categorical_crossentropy', metrics=['accuracy'])\n",
        "    history_rd = model_rd.fit(x_train, y_train, epochs=10)\n",
        "    show_history(history_rd)\n",
        "    loss, acc = model_rd.evaluate(x_test, y_test, verbose=2)\n",
        "    print(\"Test accuracy: {:5.2f}%\".format(100*acc))\n",
        "    loss, acc = model_rd.evaluate(x_train, y_train, verbose=2)\n",
        "    print(\"Train accuracy: {:5.2f}%\".format(100*acc))"
      ]
    },
    {
      "cell_type": "code",
      "execution_count": 49,
      "metadata": {
        "colab": {
          "base_uri": "https://localhost:8080/"
        },
        "id": "heSSzR0NX0Wu",
        "outputId": "a020cef9-4cb7-4c2d-e8d1-4ce3158c8b8e"
      },
      "outputs": [
        {
          "name": "stdout",
          "output_type": "stream",
          "text": [
            "Model: \"sequential_7\"\n",
            "_________________________________________________________________\n",
            " Layer (type)                Output Shape              Param #   \n",
            "=================================================================\n",
            " dense_21 (Dense)            (None, 256)               200960    \n",
            "                                                                 \n",
            " dense_22 (Dense)            (None, 128)               32896     \n",
            "                                                                 \n",
            " dense_23 (Dense)            (None, 10)                1290      \n",
            "                                                                 \n",
            "=================================================================\n",
            "Total params: 235146 (918.54 KB)\n",
            "Trainable params: 235146 (918.54 KB)\n",
            "Non-trainable params: 0 (0.00 Byte)\n",
            "_________________________________________________________________\n"
          ]
        }
      ],
      "source": [
        "# In each model block, add the following lines before model training:\n",
        "mlflow.autolog()\n",
        "\n",
        "with mlflow.start_run(run_name=\"early\") as run:\n",
        "    model_re = keras.Sequential()\n",
        "    model_re.add(layers.Dense(256, activation='sigmoid', input_shape=(784,)))\n",
        "    model_re.add(layers.Dense(128, activation='sigmoid'))\n",
        "    model_re.add(layers.Dense(10, activation='softmax'))\n",
        "    model_re.summary()\n",
        "    model_re.compile(loss='categorical_crossentropy', metrics=['accuracy'])\n",
        "    # model will get saved at the end of every epoch automatically.\n",
        "    checkpoint = ModelCheckpoint(r\"mnist-epoch-{epoch:02d}.hdf5\")\n",
        "    history_es = model_re.fit(x_train, y_train, epochs=10, validation_data=(x_test, y_test), callbacks=[checkpoint])\n",
        "    show_history(history_es)\n",
        "    es = keras.callbacks.EarlyStopping(monitor='val_accuracy', min_delta=0.01, patience=2)\n",
        "    model_re.fit(x_train, y_train, epochs=10, validation_data=(x_test, y_test), callbacks=[es])\n"
      ]
    },
    {
      "cell_type": "code",
      "execution_count": null,
      "metadata": {
        "id": "OaQ05dFZX0Wu",
        "outputId": "c6d4d63d-6cb5-4b30-a2bc-623c30f466f7"
      },
      "outputs": [
        {
          "name": "stdout",
          "output_type": "stream",
          "text": [
            "Model: \"sequential_10\"\n",
            "_________________________________________________________________\n",
            " Layer (type)                Output Shape              Param #   \n",
            "=================================================================\n",
            " dense_24 (Dense)            (None, 20)                15700     \n",
            "                                                                 \n",
            " dense_25 (Dense)            (None, 10)                210       \n",
            "                                                                 \n",
            " dense_26 (Dense)            (None, 10)                110       \n",
            "                                                                 \n",
            "=================================================================\n",
            "Total params: 16,020\n",
            "Trainable params: 16,020\n",
            "Non-trainable params: 0\n",
            "_________________________________________________________________\n"
          ]
        }
      ],
      "source": [
        "# In each model block, add the following lines before model training:\n",
        "mlflow.autolog()\n",
        "\n",
        "with mlflow.start_run(run_name=\"learning\") as run:\n",
        "    # Using LEarning rates now.\n",
        "    model3 = keras.Sequential()\n",
        "    model3.add(layers.Dense(20, activation='sigmoid', input_shape=(784,)))\n",
        "    model3.add(layers.Dense(10, activation='sigmoid'))\n",
        "    model3.add(layers.Dense(10, activation='softmax'))\n",
        "    model3.summary()\n",
        "    opt_new = keras.optimizers.SGD(learning_rate=10)\n",
        "    model3.compile(optimizer=opt_new, loss='categorical_crossentropy', metrics=['accuracy'])\n",
        "    model3.fit(x_train, y_train, epochs=20)"
      ]
    },
    {
      "cell_type": "code",
      "execution_count": null,
      "metadata": {
        "id": "utdp9nTIX0Wu",
        "outputId": "1f178de5-c10b-443f-99b7-f7251756ada9"
      },
      "outputs": [
        {
          "name": "stdout",
          "output_type": "stream",
          "text": [
            "Model: \"sequential_11\"\n",
            "_________________________________________________________________\n",
            " Layer (type)                Output Shape              Param #   \n",
            "=================================================================\n",
            " dense_27 (Dense)            (None, 20)                15700     \n",
            "                                                                 \n",
            " dense_28 (Dense)            (None, 10)                210       \n",
            "                                                                 \n",
            " dense_29 (Dense)            (None, 10)                110       \n",
            "                                                                 \n",
            "=================================================================\n",
            "Total params: 16,020\n",
            "Trainable params: 16,020\n",
            "Non-trainable params: 0\n",
            "_________________________________________________________________\n",
            "Epoch 1/20\n",
            "1875/1875 [==============================] - 4s 2ms/step - loss: 2.4651 - accuracy: 0.1124\n",
            "Epoch 2/20\n",
            "1875/1875 [==============================] - 4s 2ms/step - loss: 2.4618 - accuracy: 0.1123\n",
            "Epoch 3/20\n",
            "1875/1875 [==============================] - 4s 2ms/step - loss: 2.4586 - accuracy: 0.1123\n",
            "Epoch 4/20\n",
            "1875/1875 [==============================] - 4s 2ms/step - loss: 2.4555 - accuracy: 0.1123\n",
            "Epoch 5/20\n",
            "1875/1875 [==============================] - 4s 2ms/step - loss: 2.4524 - accuracy: 0.1123\n",
            "Epoch 6/20\n",
            "1875/1875 [==============================] - 4s 2ms/step - loss: 2.4494 - accuracy: 0.1123\n",
            "Epoch 7/20\n",
            "1875/1875 [==============================] - 4s 2ms/step - loss: 2.4465 - accuracy: 0.1123\n",
            "Epoch 8/20\n",
            "1875/1875 [==============================] - 4s 2ms/step - loss: 2.4437 - accuracy: 0.1123\n",
            "Epoch 9/20\n",
            "1875/1875 [==============================] - 4s 2ms/step - loss: 2.4409 - accuracy: 0.1123\n",
            "Epoch 10/20\n",
            "1875/1875 [==============================] - 4s 2ms/step - loss: 2.4382 - accuracy: 0.1123\n",
            "Epoch 11/20\n",
            "1875/1875 [==============================] - 4s 2ms/step - loss: 2.4356 - accuracy: 0.1123\n",
            "Epoch 12/20\n",
            "1875/1875 [==============================] - 4s 2ms/step - loss: 2.4330 - accuracy: 0.1122\n",
            "Epoch 13/20\n",
            "1875/1875 [==============================] - 4s 2ms/step - loss: 2.4304 - accuracy: 0.1122\n",
            "Epoch 14/20\n",
            "1875/1875 [==============================] - 4s 2ms/step - loss: 2.4280 - accuracy: 0.1121\n",
            "Epoch 15/20\n",
            "1875/1875 [==============================] - 4s 2ms/step - loss: 2.4255 - accuracy: 0.1121\n",
            "Epoch 16/20\n",
            "1875/1875 [==============================] - 4s 2ms/step - loss: 2.4232 - accuracy: 0.1121\n",
            "Epoch 17/20\n",
            "1875/1875 [==============================] - 4s 2ms/step - loss: 2.4208 - accuracy: 0.1120\n",
            "Epoch 18/20\n",
            "1875/1875 [==============================] - 4s 2ms/step - loss: 2.4186 - accuracy: 0.1120\n",
            "Epoch 19/20\n",
            "1875/1875 [==============================] - 4s 2ms/step - loss: 2.4164 - accuracy: 0.1119\n",
            "Epoch 20/20\n",
            "1875/1875 [==============================] - 4s 2ms/step - loss: 2.4142 - accuracy: 0.1118\n"
          ]
        },
        {
          "data": {
            "text/plain": [
              "<keras.callbacks.History at 0x7fe8ef768ac0>"
            ]
          },
          "execution_count": 47,
          "metadata": {},
          "output_type": "execute_result"
        }
      ],
      "source": [
        "# In each model block, add the following lines before model training:\n",
        "mlflow.autolog()\n",
        "\n",
        "with mlflow.start_run(run_name=\"low\") as run:\n",
        "    # too low learning rate\n",
        "    model3 = keras.Sequential()\n",
        "    model3.add(layers.Dense(20, activation='sigmoid', input_shape=(784,)))\n",
        "    model3.add(layers.Dense(10, activation='sigmoid'))\n",
        "    model3.add(layers.Dense(10, activation='softmax'))\n",
        "    model3.summary()\n",
        "    opt_new = keras.optimizers.SGD(learning_rate=.00001)\n",
        "    model3.compile(optimizer=opt_new, loss='categorical_crossentropy', metrics=['accuracy'])\n",
        "    model3.fit(x_train, y_train, epochs=20)"
      ]
    },
    {
      "cell_type": "code",
      "execution_count": null,
      "metadata": {
        "id": "dDRm_MSIX0Wv",
        "outputId": "04c0d651-32d4-4380-ffcd-a9803f41a704"
      },
      "outputs": [
        {
          "name": "stdout",
          "output_type": "stream",
          "text": [
            "Model: \"sequential_12\"\n",
            "_________________________________________________________________\n",
            " Layer (type)                Output Shape              Param #   \n",
            "=================================================================\n",
            " dense_30 (Dense)            (None, 20)                15700     \n",
            "                                                                 \n",
            " dense_31 (Dense)            (None, 10)                210       \n",
            "                                                                 \n",
            " dense_32 (Dense)            (None, 10)                110       \n",
            "                                                                 \n",
            "=================================================================\n",
            "Total params: 16,020\n",
            "Trainable params: 16,020\n",
            "Non-trainable params: 0\n",
            "_________________________________________________________________\n",
            "Epoch 1/20\n",
            "1875/1875 [==============================] - 4s 2ms/step - loss: 2.2533 - accuracy: 0.2392\n",
            "Epoch 2/20\n",
            "1875/1875 [==============================] - 4s 2ms/step - loss: 2.0421 - accuracy: 0.4538\n",
            "Epoch 3/20\n",
            "1875/1875 [==============================] - 4s 2ms/step - loss: 1.7108 - accuracy: 0.5248\n",
            "Epoch 4/20\n",
            "1875/1875 [==============================] - 4s 2ms/step - loss: 1.4371 - accuracy: 0.5789\n",
            "Epoch 5/20\n",
            "1875/1875 [==============================] - 4s 2ms/step - loss: 1.2426 - accuracy: 0.6340\n",
            "Epoch 6/20\n",
            "1875/1875 [==============================] - 4s 2ms/step - loss: 1.0870 - accuracy: 0.6922\n",
            "Epoch 7/20\n",
            "1875/1875 [==============================] - 4s 2ms/step - loss: 0.9525 - accuracy: 0.7380\n",
            "Epoch 8/20\n",
            "1875/1875 [==============================] - 4s 2ms/step - loss: 0.8378 - accuracy: 0.7800\n",
            "Epoch 9/20\n",
            "1875/1875 [==============================] - 4s 2ms/step - loss: 0.7438 - accuracy: 0.8126\n",
            "Epoch 10/20\n",
            "1875/1875 [==============================] - 4s 2ms/step - loss: 0.6700 - accuracy: 0.8333\n",
            "Epoch 11/20\n",
            "1875/1875 [==============================] - 4s 2ms/step - loss: 0.6132 - accuracy: 0.8471\n",
            "Epoch 12/20\n",
            "1875/1875 [==============================] - 4s 2ms/step - loss: 0.5690 - accuracy: 0.8567\n",
            "Epoch 13/20\n",
            "1875/1875 [==============================] - 4s 2ms/step - loss: 0.5337 - accuracy: 0.8638\n",
            "Epoch 14/20\n",
            "1875/1875 [==============================] - 4s 2ms/step - loss: 0.5048 - accuracy: 0.8697\n",
            "Epoch 15/20\n",
            "1875/1875 [==============================] - 4s 2ms/step - loss: 0.4806 - accuracy: 0.8759\n",
            "Epoch 16/20\n",
            "1875/1875 [==============================] - 4s 2ms/step - loss: 0.4600 - accuracy: 0.8806\n",
            "Epoch 17/20\n",
            "1875/1875 [==============================] - 4s 2ms/step - loss: 0.4420 - accuracy: 0.8847\n",
            "Epoch 18/20\n",
            "1875/1875 [==============================] - 4s 2ms/step - loss: 0.4262 - accuracy: 0.8882\n",
            "Epoch 19/20\n",
            "1875/1875 [==============================] - 4s 2ms/step - loss: 0.4118 - accuracy: 0.8924\n",
            "Epoch 20/20\n",
            "1875/1875 [==============================] - 4s 2ms/step - loss: 0.3988 - accuracy: 0.8948\n"
          ]
        },
        {
          "data": {
            "text/plain": [
              "<keras.callbacks.History at 0x7fe8ef55e2b0>"
            ]
          },
          "execution_count": 48,
          "metadata": {},
          "output_type": "execute_result"
        }
      ],
      "source": [
        "# In each model block, add the following lines before model training:\n",
        "mlflow.autolog()\n",
        "\n",
        "with mlflow.start_run(run_name=\"optimal\") as run:\n",
        "    # optimal learning rate\n",
        "    model3 = keras.Sequential()\n",
        "    model3.add(layers.Dense(20, activation='sigmoid', input_shape=(784,)))\n",
        "    model3.add(layers.Dense(10, activation='sigmoid'))\n",
        "    model3.add(layers.Dense(10, activation='softmax'))\n",
        "    model3.summary()\n",
        "    opt_new = keras.optimizers.SGD(learning_rate=.01)\n",
        "    model3.compile(optimizer=opt_new, loss='categorical_crossentropy', metrics=['accuracy'])\n",
        "    model3.fit(x_train, y_train, epochs=20)"
      ]
    },
    {
      "cell_type": "code",
      "execution_count": null,
      "metadata": {
        "id": "0yT-zGT4X0Wv",
        "outputId": "d1b5b671-cf5f-4660-f4f8-ef975710584d"
      },
      "outputs": [
        {
          "name": "stdout",
          "output_type": "stream",
          "text": [
            "Model: \"sequential_14\"\n",
            "_________________________________________________________________\n",
            " Layer (type)                Output Shape              Param #   \n",
            "=================================================================\n",
            " dense_36 (Dense)            (None, 20)                15700     \n",
            "                                                                 \n",
            " dense_37 (Dense)            (None, 10)                210       \n",
            "                                                                 \n",
            " dense_38 (Dense)            (None, 10)                110       \n",
            "                                                                 \n",
            "=================================================================\n",
            "Total params: 16,020\n",
            "Trainable params: 16,020\n",
            "Non-trainable params: 0\n",
            "_________________________________________________________________\n",
            "Epoch 1/20\n",
            "1875/1875 [==============================] - 5s 2ms/step - loss: 2.1416 - accuracy: 0.3215\n",
            "Epoch 2/20\n",
            "1875/1875 [==============================] - 4s 2ms/step - loss: 1.5759 - accuracy: 0.5187\n",
            "Epoch 3/20\n",
            "1875/1875 [==============================] - 4s 2ms/step - loss: 1.1739 - accuracy: 0.6662\n",
            "Epoch 4/20\n",
            "1875/1875 [==============================] - 4s 2ms/step - loss: 0.9175 - accuracy: 0.7466\n",
            "Epoch 5/20\n",
            "1875/1875 [==============================] - 4s 2ms/step - loss: 0.7481 - accuracy: 0.8101\n",
            "Epoch 6/20\n",
            "1875/1875 [==============================] - 4s 2ms/step - loss: 0.6318 - accuracy: 0.8464\n",
            "Epoch 7/20\n",
            "1875/1875 [==============================] - 5s 2ms/step - loss: 0.5512 - accuracy: 0.8671\n",
            "Epoch 8/20\n",
            "1875/1875 [==============================] - 4s 2ms/step - loss: 0.4933 - accuracy: 0.8799\n",
            "Epoch 9/20\n",
            "1875/1875 [==============================] - 5s 2ms/step - loss: 0.4498 - accuracy: 0.8889\n",
            "Epoch 10/20\n",
            "1875/1875 [==============================] - 4s 2ms/step - loss: 0.4166 - accuracy: 0.8957\n",
            "Epoch 11/20\n",
            "1875/1875 [==============================] - 5s 2ms/step - loss: 0.3901 - accuracy: 0.9013\n",
            "Epoch 12/20\n",
            "1875/1875 [==============================] - 4s 2ms/step - loss: 0.3687 - accuracy: 0.9047\n",
            "Epoch 13/20\n",
            "1875/1875 [==============================] - 4s 2ms/step - loss: 0.3507 - accuracy: 0.9087\n",
            "Epoch 14/20\n",
            "1875/1875 [==============================] - 5s 2ms/step - loss: 0.3355 - accuracy: 0.9121\n",
            "Epoch 15/20\n",
            "1875/1875 [==============================] - 5s 2ms/step - loss: 0.3223 - accuracy: 0.9156\n",
            "Epoch 16/20\n",
            "1875/1875 [==============================] - 4s 2ms/step - loss: 0.3107 - accuracy: 0.9180\n",
            "Epoch 17/20\n",
            "1875/1875 [==============================] - 4s 2ms/step - loss: 0.3002 - accuracy: 0.9201\n",
            "Epoch 18/20\n",
            "1875/1875 [==============================] - 4s 2ms/step - loss: 0.2906 - accuracy: 0.9229\n",
            "Epoch 19/20\n",
            "1875/1875 [==============================] - 4s 2ms/step - loss: 0.2818 - accuracy: 0.9247\n",
            "Epoch 20/20\n",
            "1875/1875 [==============================] - 4s 2ms/step - loss: 0.2734 - accuracy: 0.9268\n"
          ]
        },
        {
          "data": {
            "text/plain": [
              "<keras.callbacks.History at 0x7fe8ec0b1e20>"
            ]
          },
          "execution_count": 58,
          "metadata": {},
          "output_type": "execute_result"
        }
      ],
      "source": [
        "# In each model block, add the following lines before model training:\n",
        "mlflow.autolog()\n",
        "\n",
        "with mlflow.start_run(run_name=\"momentum\") as run:\n",
        "    # optimal learning rate with momentum\n",
        "    model3 = keras.Sequential()\n",
        "    model3.add(layers.Dense(20, activation='sigmoid', input_shape=(784,)))\n",
        "    model3.add(layers.Dense(10, activation='sigmoid'))\n",
        "    model3.add(layers.Dense(10, activation='softmax'))\n",
        "    model3.summary()\n",
        "    opt_new = keras.optimizers.SGD(learning_rate=.01, momentum=0.5)\n",
        "    model3.compile(optimizer=opt_new, loss='categorical_crossentropy', metrics=['accuracy'])\n",
        "    model3.fit(x_train, y_train, epochs=20)"
      ]
    },
    {
      "cell_type": "code",
      "execution_count": null,
      "metadata": {
        "id": "8VLCo-_vX0Wv",
        "outputId": "e5eb6c7b-a9fe-42db-ea90-31458a2faccd"
      },
      "outputs": [
        {
          "name": "stdout",
          "output_type": "stream",
          "text": [
            "Model: \"sequential_22\"\n",
            "_________________________________________________________________\n",
            " Layer (type)                Output Shape              Param #   \n",
            "=================================================================\n",
            " dense_60 (Dense)            (None, 20)                15700     \n",
            "                                                                 \n",
            " dense_61 (Dense)            (None, 10)                210       \n",
            "                                                                 \n",
            " dense_62 (Dense)            (None, 10)                110       \n",
            "                                                                 \n",
            "=================================================================\n",
            "Total params: 16,020\n",
            "Trainable params: 16,020\n",
            "Non-trainable params: 0\n",
            "_________________________________________________________________\n",
            "Epoch 1/10\n",
            "118/118 [==============================] - 1s 4ms/step - loss: 2.1100 - accuracy: 0.3083\n",
            "Epoch 2/10\n",
            "118/118 [==============================] - 0s 4ms/step - loss: 1.7772 - accuracy: 0.5403\n",
            "Epoch 3/10\n",
            "118/118 [==============================] - 0s 4ms/step - loss: 1.5238 - accuracy: 0.5899\n",
            "Epoch 4/10\n",
            "118/118 [==============================] - 0s 4ms/step - loss: 1.3072 - accuracy: 0.6781\n",
            "Epoch 5/10\n",
            "118/118 [==============================] - 0s 4ms/step - loss: 1.1206 - accuracy: 0.7504\n",
            "Epoch 6/10\n",
            "118/118 [==============================] - 0s 4ms/step - loss: 0.9618 - accuracy: 0.7803\n",
            "Epoch 7/10\n",
            "118/118 [==============================] - 0s 4ms/step - loss: 0.8310 - accuracy: 0.7980\n",
            "Epoch 8/10\n",
            "118/118 [==============================] - 0s 4ms/step - loss: 0.7264 - accuracy: 0.8153\n",
            "Epoch 9/10\n",
            "118/118 [==============================] - 0s 4ms/step - loss: 0.6445 - accuracy: 0.8308\n",
            "Epoch 10/10\n",
            "118/118 [==============================] - 0s 4ms/step - loss: 0.5787 - accuracy: 0.8457\n"
          ]
        },
        {
          "data": {
            "text/plain": [
              "<keras.callbacks.History at 0x7fe8e0065e20>"
            ]
          },
          "execution_count": 67,
          "metadata": {},
          "output_type": "execute_result"
        }
      ],
      "source": [
        "# In each model block, add the following lines before model training:\n",
        "mlflow.autolog()\n",
        "\n",
        "with mlflow.start_run(run_name=\"mini\") as run:\n",
        "    # Mini-batch SGD\n",
        "    # the default minibatch size is 32 unlike 1.\n",
        "    model4 = keras.Sequential()\n",
        "    model4.add(layers.Dense(20, activation='sigmoid', input_shape=(784,)))\n",
        "    model4.add(layers.Dense(10, activation='sigmoid'))\n",
        "    model4.add(layers.Dense(10, activation='softmax'))\n",
        "    model4.summary()\n",
        "    opt_new = keras.optimizers.SGD(learning_rate=.01, momentum=0.5)\n",
        "    model4.compile(loss='categorical_crossentropy', metrics=['accuracy'])\n",
        "    model4.fit(x_train, y_train, batch_size=512, epochs=10)"
      ]
    }
  ],
  "metadata": {
    "colab": {
      "provenance": []
    },
    "kernelspec": {
      "display_name": "Python 3",
      "language": "python",
      "name": "python3"
    },
    "language_info": {
      "codemirror_mode": {
        "name": "ipython",
        "version": 3
      },
      "file_extension": ".py",
      "mimetype": "text/x-python",
      "name": "python",
      "nbconvert_exporter": "python",
      "pygments_lexer": "ipython3",
      "version": "3.8.10"
    }
  },
  "nbformat": 4,
  "nbformat_minor": 0
}
